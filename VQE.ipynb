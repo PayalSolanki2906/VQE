{
 "cells": [
  {
   "cell_type": "markdown",
   "id": "c35e98b4",
   "metadata": {},
   "source": [
    "# Variational Quantum Eigensolver (VQE)"
   ]
  },
  {
   "cell_type": "markdown",
   "id": "2fb95c9c",
   "metadata": {},
   "source": [
    "VQE [[1]](https://arxiv.org/abs/2012.09265) is an algorithm that can be used to approximate the ground state of a given Hamiltonian, represented by the operator $H$. If the exact ground state $|\\psi_0\\rangle$ is unknown, the VQE algorithm can be used to obtain an approximation of the ground state $|\\psi\\rangle\\approx|\\psi_0\\rangle$, by applying the variational principle.\n",
    "\n",
    "To apply the variational principle, the VQE algorithm starts with a guess state, called an ansatz, which is parameterized by a set of variables represented by $\\theta\\equiv(\\theta_1,\\theta_2,\\cdots)$. The goal is to find the values of the variables $\\theta_i$'s that minimize the energy expectation value of the Hamiltonian $H$ for the ansatz state $|\\psi(\\theta)\\rangle$, i.e., $\\langle\\psi(\\theta)|H|\\psi(\\theta)\\rangle$."
   ]
  },
  {
   "cell_type": "markdown",
   "id": "b2519394",
   "metadata": {},
   "source": [
    "To understand the VQE algorithm, we will use the **Ising model** Hamiltonian as a test case. The Hamiltonian for the Ising model can be expressed as follows:\n",
    "\n",
    "\\begin{equation}\n",
    "H=\\sum_{i=1}^{N-1} \\sigma_i^z\\sigma_{i+1}^z\n",
    "\\end{equation}\n",
    "\n",
    "Here, $N$ represents the total number of qubits in the system, and $\\sigma_i^z$ and $\\sigma_{i+1}^z$ are the Pauli-Z matrices acting on qubits $i$ and $i+1$, respectively."
   ]
  },
  {
   "cell_type": "code",
   "execution_count": 1,
   "id": "c6c9620b",
   "metadata": {},
   "outputs": [],
   "source": [
    "#import necessary libraries\n",
    "import qiskit\n",
    "from qiskit.circuit.library import EfficientSU2\n",
    "from qiskit.opflow import I, X, Y, Z\n",
    "import numpy as np\n",
    "import random\n",
    "from scipy.optimize import minimize\n",
    "from qiskit.circuit import QuantumCircuit, Parameter\n",
    "from qiskit.quantum_info import Statevector"
   ]
  },
  {
   "cell_type": "markdown",
   "id": "a07f8afa",
   "metadata": {},
   "source": [
    "Now we will construct this Hamiltonian using Qiskit for $N=4$ as follows,"
   ]
  },
  {
   "cell_type": "code",
   "execution_count": 2,
   "id": "a49462ac",
   "metadata": {},
   "outputs": [
    {
     "name": "stdout",
     "output_type": "stream",
     "text": [
      "1.0 * ZZII\n",
      "+ 1.0 * IZZI\n",
      "+ 1.0 * IIZZ\n"
     ]
    }
   ],
   "source": [
    "# Making a list of all interaction terms\n",
    "\n",
    "lst=[(\"ZZII\",1),(\"IZZI\",1),(\"IIZZ\",1)]   # Considering Open boundary conditions\n",
    "H = qiskit.opflow.primitive_ops.PauliSumOp.from_list(lst)\n",
    "print(H)"
   ]
  },
  {
   "cell_type": "markdown",
   "id": "7bc6a050",
   "metadata": {},
   "source": [
    "Once we have constructed the Hamiltonian, we can construct the ansatz circuit for $|\\psi(\\theta)\\rangle$ as follows. We can choose to use the EfficientSU2 ansatz, which is a commonly used ansatz in quantum algorithms. However, it is also possible to use other ansatzes depending on the user's preference and the specific Hamiltonian being considered (more information click [here](https://arxiv.org/abs/2111.05176))."
   ]
  },
  {
   "cell_type": "code",
   "execution_count": 3,
   "id": "dc6ec428",
   "metadata": {},
   "outputs": [
    {
     "name": "stdout",
     "output_type": "stream",
     "text": [
      "8\n"
     ]
    },
    {
     "data": {
      "text/html": [
       "<pre style=\"word-wrap: normal;white-space: pre;background: #fff0;line-height: 1.1;font-family: &quot;Courier New&quot;,Courier,monospace\">     ┌──────────┐┌──────────┐               \n",
       "q_0: ┤ Ry(θ[0]) ├┤ Rz(θ[4]) ├──■────────────\n",
       "     ├──────────┤├──────────┤┌─┴─┐          \n",
       "q_1: ┤ Ry(θ[1]) ├┤ Rz(θ[5]) ├┤ X ├──■───────\n",
       "     ├──────────┤├──────────┤└───┘┌─┴─┐     \n",
       "q_2: ┤ Ry(θ[2]) ├┤ Rz(θ[6]) ├─────┤ X ├──■──\n",
       "     ├──────────┤├──────────┤     └───┘┌─┴─┐\n",
       "q_3: ┤ Ry(θ[3]) ├┤ Rz(θ[7]) ├──────────┤ X ├\n",
       "     └──────────┘└──────────┘          └───┘</pre>"
      ],
      "text/plain": [
       "     ┌──────────┐┌──────────┐               \n",
       "q_0: ┤ Ry(θ[0]) ├┤ Rz(θ[4]) ├──■────────────\n",
       "     ├──────────┤├──────────┤┌─┴─┐          \n",
       "q_1: ┤ Ry(θ[1]) ├┤ Rz(θ[5]) ├┤ X ├──■───────\n",
       "     ├──────────┤├──────────┤└───┘┌─┴─┐     \n",
       "q_2: ┤ Ry(θ[2]) ├┤ Rz(θ[6]) ├─────┤ X ├──■──\n",
       "     ├──────────┤├──────────┤     └───┘┌─┴─┐\n",
       "q_3: ┤ Ry(θ[3]) ├┤ Rz(θ[7]) ├──────────┤ X ├\n",
       "     └──────────┘└──────────┘          └───┘"
      ]
     },
     "execution_count": 3,
     "metadata": {},
     "output_type": "execute_result"
    }
   ],
   "source": [
    "ansatz = EfficientSU2(4, entanglement='linear', reps=1, skip_final_rotation_layer=True).decompose()\n",
    "print(ansatz.num_parameters)\n",
    "ansatz.draw()\n",
    "#  ## This finds number of independent parameters in a ansatz\n",
    "# from qiskit.circuit.library import PauliTwoDesign\n",
    "# ansatz = PauliTwoDesign(4, reps=1, seed=2)\n",
    "# print(ansatz.num_parameters)"
   ]
  },
  {
   "cell_type": "markdown",
   "id": "fb48728b",
   "metadata": {},
   "source": [
    "In VQE, our goal is to find the state corresponding to the minimum eigen energy. To achieve this, we define the cost function as the expectation value of the Hamiltonian with respect to $|\\psi(\\theta)\\rangle$, which is represented as $\\langle\\psi(\\theta)|H|\\psi(\\theta)\\rangle$. The function for calculating the expectation value of the Hamiltonian is `expectation_h`."
   ]
  },
  {
   "cell_type": "markdown",
   "id": "52c32de5",
   "metadata": {},
   "source": [
    "To approximate the ground state, we optimize the parameters using classical optimization techniques. For this purpose, we use the **Scipy** library to minimize our cost function using the `minimization` function provided below. "
   ]
  },
  {
   "cell_type": "code",
   "execution_count": 4,
   "id": "f22093c4",
   "metadata": {},
   "outputs": [],
   "source": [
    "def minimization(H, ansatz):\n",
    "    '''\n",
    "    Returns a optimal paramters for the state corresponding to minimum energy\n",
    "    \n",
    "        Parameters:\n",
    "        H: The Hamiltonian operator for the system to be simulated.\n",
    "        ansatz: A parameterized circuit used as Ansatz for the wave function.\n",
    "        \n",
    "        Returns:\n",
    "        optimal_parameters: list of the optimal parameters for the ansatz circuit.\n",
    "    \n",
    "    '''\n",
    "    \n",
    "    def expectation_h(parameters):\n",
    "        # Create the ansatz circuit with the given parameters\n",
    "        qc = ansatz.bind_parameters(parameters)\n",
    "\n",
    "        # Calculate the expectation value of the Hamiltonian H\n",
    "        c = Statevector.from_instruction(qc).expectation_value(H)\n",
    "\n",
    "        # Return the energy\n",
    "        return c.real\n",
    "    \n",
    "    # Define the initial parameters for the ansatz circuit as a random numbers\n",
    "    initial_parameters = []\n",
    "    for i in range(ansatz.num_parameters):\n",
    "        initial_parameters.append(random.random())\n",
    "    \n",
    "    result = minimize(expectation_h, initial_parameters, method='CG')\n",
    "    optimal_parameters = result.x\n",
    "    return optimal_parameters"
   ]
  },
  {
   "cell_type": "markdown",
   "id": "e7c2d689",
   "metadata": {},
   "source": [
    "To approximate the most excited state (highest energy state), we optimize the parameters using classical optimization techniques. For this purpose, we use the **Scipy** library to maximize our cost function using the `maximization` function provided below. "
   ]
  },
  {
   "cell_type": "code",
   "execution_count": 5,
   "id": "aba75341",
   "metadata": {},
   "outputs": [],
   "source": [
    "def maximization(H, ansatz):\n",
    "    '''\n",
    "    Returns a optimal paramters for the state corresponding to maximum energy\n",
    "    \n",
    "        Parameters:\n",
    "        H: The Hamiltonian operator for the system to be simulated.\n",
    "        ansatz: A parameterized circuit used as Ansatz for the wave function.\n",
    "        \n",
    "        Returns:\n",
    "        optimal_parameters: list of the optimal parameters for the ansatz circuit.\n",
    "    \n",
    "    '''\n",
    "    \n",
    "    def expectation_h(parameters):\n",
    "        # Create the ansatz circuit with the given parameters\n",
    "        qc = ansatz.bind_parameters(parameters)\n",
    "\n",
    "        # Calculate the expectation value of the Hamiltonian H\n",
    "        c = Statevector.from_instruction(qc).expectation_value(H)\n",
    "\n",
    "        # Return the energy\n",
    "        return -c.real\n",
    "    \n",
    "    # Define the initial parameters for the ansatz circuit as a random numbers\n",
    "    initial_parameters = []\n",
    "    for i in range(ansatz.num_parameters):\n",
    "        initial_parameters.append(random.random())\n",
    "    \n",
    "    result = minimize(expectation_h, initial_parameters, method='CG')\n",
    "    optimal_parameters = result.x\n",
    "    return optimal_parameters"
   ]
  },
  {
   "cell_type": "code",
   "execution_count": 6,
   "id": "fa28201f",
   "metadata": {},
   "outputs": [],
   "source": [
    "optimal_parameters=minimization(H, ansatz)"
   ]
  },
  {
   "cell_type": "code",
   "execution_count": 7,
   "id": "5e384933",
   "metadata": {},
   "outputs": [
    {
     "name": "stdout",
     "output_type": "stream",
     "text": [
      "-2.999999999999975\n"
     ]
    }
   ],
   "source": [
    "circuit = ansatz.bind_parameters(optimal_parameters)\n",
    "circuit.draw()\n",
    "expectation = Statevector.from_instruction(circuit).expectation_value(H)\n",
    "print(expectation.real)"
   ]
  },
  {
   "cell_type": "markdown",
   "id": "1afeb720",
   "metadata": {},
   "source": [
    "# Application to optimization problem"
   ]
  },
  {
   "cell_type": "markdown",
   "id": "4c3a48e6",
   "metadata": {},
   "source": [
    "Here we will try to minimize the quadratic equations below,\n",
    "\\begin{eqnarray}\n",
    "\\min_x x^2-2x+1,\\\\\n",
    "\\min_x x^2-4x+4.\\\\\n",
    "\\end{eqnarray}"
   ]
  },
  {
   "cell_type": "markdown",
   "id": "cb7f28c0",
   "metadata": {},
   "source": [
    "To optimize these quadratic equations, we need to encode them into a Hamiltonian. To do this, we perform the transformation $x\\rightarrow (\\mathbb{I}-Z)/2$, where $\\mathbb{I}$ is the identity operator and $Z$ is the Pauli Z gate. Since these equations have only one variable, we only need one qubit. \n",
    "\\begin{eqnarray*}\n",
    "H(x^2 - 2x + 1)=0.5Z+0.5\\mathbb{I},\\\\\n",
    "H(x^2 - 4x + 4)=1.5Z+2.5\\mathbb{I}.\n",
    "\\end{eqnarray*}"
   ]
  },
  {
   "cell_type": "markdown",
   "id": "41d3d90d",
   "metadata": {},
   "source": [
    "## Solving $\\min_x x^2-2x+1$"
   ]
  },
  {
   "cell_type": "code",
   "execution_count": 12,
   "id": "94e77c17",
   "metadata": {},
   "outputs": [
    {
     "name": "stdout",
     "output_type": "stream",
     "text": [
      "0.5 * Z\n",
      "+ 0.5 * I\n"
     ]
    }
   ],
   "source": [
    "lst=[(\"Z\",0.5),(\"I\",0.5)]   ## Hamiltonian 1/2 Z+ 1/2 I\n",
    "H1= qiskit.opflow.primitive_ops.PauliSumOp.from_list(lst)\n",
    "print(H1)\n",
    "ansatz1 = EfficientSU2(1, entanglement='linear', reps=1, skip_final_rotation_layer=True).decompose()"
   ]
  },
  {
   "cell_type": "code",
   "execution_count": 13,
   "id": "8a83a8a5",
   "metadata": {},
   "outputs": [
    {
     "name": "stdout",
     "output_type": "stream",
     "text": [
      "The root of the equation x^2-2x+1 is 0.9999999999999984\n"
     ]
    }
   ],
   "source": [
    "optimal_parameters1=maximization(H1, ansatz1)\n",
    "circuit = ansatz1.bind_parameters(optimal_parameters1)\n",
    "circuit.draw()\n",
    "expectation = Statevector.from_instruction(circuit).expectation_value(H1)\n",
    "print(f'The root of the equation x^2-2x+1 is {abs(expectation)**0.5}')"
   ]
  },
  {
   "cell_type": "markdown",
   "id": "6940120a",
   "metadata": {},
   "source": [
    "## Solving $\\min_x x^2-4x+4$"
   ]
  },
  {
   "cell_type": "code",
   "execution_count": 10,
   "id": "613dfe89",
   "metadata": {},
   "outputs": [
    {
     "name": "stdout",
     "output_type": "stream",
     "text": [
      "1.5 * Z\n",
      "+ 2.5 * I\n"
     ]
    }
   ],
   "source": [
    "lst=[(\"Z\",1.5),(\"I\",2.5)]   ## Hamiltonian 3/2 Z+ 5/2 I\n",
    "H2 = qiskit.opflow.primitive_ops.PauliSumOp.from_list(lst)\n",
    "print(H2)\n",
    "ansatz2 = EfficientSU2(1, entanglement='linear', reps=1, skip_final_rotation_layer=True).decompose()"
   ]
  },
  {
   "cell_type": "code",
   "execution_count": 11,
   "id": "d694cae2",
   "metadata": {},
   "outputs": [
    {
     "name": "stdout",
     "output_type": "stream",
     "text": [
      "The root of the equation x^2-4x+4 is 1.9999999999999998\n"
     ]
    }
   ],
   "source": [
    "optimal_parameters2=maximization(H2, ansatz2)\n",
    "circuit = ansatz2.bind_parameters(optimal_parameters2)\n",
    "circuit.draw()\n",
    "expectation = Statevector.from_instruction(circuit).expectation_value(H2)\n",
    "print(f'The root of the equation x^2-4x+4 is {abs(expectation)**0.5}')"
   ]
  },
  {
   "cell_type": "code",
   "execution_count": null,
   "id": "50aec98e",
   "metadata": {},
   "outputs": [],
   "source": []
  }
 ],
 "metadata": {
  "kernelspec": {
   "display_name": "Python 3 (ipykernel)",
   "language": "python",
   "name": "python3"
  },
  "language_info": {
   "codemirror_mode": {
    "name": "ipython",
    "version": 3
   },
   "file_extension": ".py",
   "mimetype": "text/x-python",
   "name": "python",
   "nbconvert_exporter": "python",
   "pygments_lexer": "ipython3",
   "version": "3.9.13"
  }
 },
 "nbformat": 4,
 "nbformat_minor": 5
}
